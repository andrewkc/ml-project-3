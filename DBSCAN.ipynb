{
 "cells": [
  {
   "cell_type": "code",
   "execution_count": 1,
   "metadata": {},
   "outputs": [],
   "source": [
    "import numpy as np\n",
    "from sklearn.neighbors import BallTree\n",
    "def DBSCAN(ds, radio, vecinos_min):\n",
    "    cluster = np.zeros(ds.shape[0])\n",
    "    cluster[:] = -1\n",
    "    c = 0\n",
    "    tree = BallTree(ds)\n",
    "    for i in range(ds.shape[0]):\n",
    "        if cluster[i] != -1:\n",
    "            continue\n",
    "        vecinos = tree.query_radius(ds[i].reshape(1, -1), r=radio)[0]\n",
    "        if len(vecinos) < vecinos_min:\n",
    "            cluster[i] = 0\n",
    "            continue\n",
    "        c += 1\n",
    "        cluster[i] = c\n",
    "        j = 0\n",
    "        while j < len(vecinos):\n",
    "            if cluster[vecinos[j]] == 0:\n",
    "                cluster[vecinos[j]] = c\n",
    "            elif cluster[vecinos[j]] == -1:\n",
    "                cluster[vecinos[j]] = c\n",
    "                vecinos2 = tree.query_radius(ds[vecinos[j]].reshape(1, -1), r=radio)[0]\n",
    "                if len(vecinos2) >= vecinos_min:\n",
    "                    vecinos = np.concatenate((vecinos, vecinos2))\n",
    "            j += 1\n",
    "\n",
    "    return cluster"
   ]
  }
 ],
 "metadata": {
  "kernelspec": {
   "display_name": "Python 3",
   "language": "python",
   "name": "python3"
  },
  "language_info": {
   "codemirror_mode": {
    "name": "ipython",
    "version": 3
   },
   "file_extension": ".py",
   "mimetype": "text/x-python",
   "name": "python",
   "nbconvert_exporter": "python",
   "pygments_lexer": "ipython3",
   "version": "3.10.4"
  }
 },
 "nbformat": 4,
 "nbformat_minor": 2
}
