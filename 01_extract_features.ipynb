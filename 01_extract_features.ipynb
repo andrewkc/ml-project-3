{
 "cells": [
  {
   "cell_type": "code",
   "execution_count": 2,
   "metadata": {},
   "outputs": [],
   "source": [
    "import os\n",
    "\n",
    "def extract_mp4_filenames(source_folder, output_file):\n",
    "  # Open the output file in write mode\n",
    "  with open(output_file, 'w') as file:\n",
    "    # Iterate through all files in the source folder\n",
    "    for filename in os.listdir(source_folder):\n",
    "      # Check if the file extension is .mp4\n",
    "      if filename.lower().endswith('.mp4'):\n",
    "        # Get the absolute path of the file\n",
    "        abs_path = os.path.abspath(os.path.join(source_folder, filename))\n",
    "        # Write the absolute path to the output file\n",
    "        file.write(abs_path + '\\n')"
   ]
  },
  {
   "cell_type": "code",
   "execution_count": 3,
   "metadata": {},
   "outputs": [],
   "source": [
    "# Call the function to extract the filenames\n",
    "extract_mp4_filenames('/home/andrewkc/Downloads/train_subset/subdirectorio_1', 'paths_train_subset_1.txt')\n",
    "extract_mp4_filenames('/home/andrewkc/Downloads/train_subset/subdirectorio_2', 'paths_train_subset_2.txt')\n",
    "extract_mp4_filenames('/home/andrewkc/Downloads/train_subset/subdirectorio_3', 'paths_train_subset_3.txt')\n",
    "extract_mp4_filenames('/home/andrewkc/Downloads/train_subset/subdirectorio_4', 'paths_train_subset_4.txt')\n",
    "extract_mp4_filenames('/home/andrewkc/Downloads/train_subset', 'paths_train_subset.txt')\n",
    "extract_mp4_filenames('/home/andrewkc/Downloads/val_subset', 'paths_val_subset.txt')\n",
    "extract_mp4_filenames('/home/andrewkc/Downloads/test_subset', 'paths_test_subset.txt')"
   ]
  },
  {
   "cell_type": "code",
   "execution_count": 62,
   "metadata": {},
   "outputs": [
    {
     "name": "stdout",
     "output_type": "stream",
     "text": [
      "{'hopscotch': 0, 'riding camel': 1, 'shot put': 2, 'situp': 3, 'playing clarinet': 4, 'dying hair': 5, 'baking cookies': 6, 'writing': 7, 'wrapping present': 8, 'ripping paper': 9, 'stretching leg': 10, 'playing ice hockey': 11, 'golf driving': 12, 'spraying': 13, 'balloon blowing': 14, 'texting': 15, 'cooking chicken': 16, 'fixing hair': 17, 'flipping pancake': 18, 'playing kickball': 19}\n",
      "        youtube_id  label\n",
      "0      GcTww0NOCk0      0\n",
      "1      zeIkGEHK46I      1\n",
      "2      -Fwy8NwefTk      2\n",
      "3      YYgESo5eQD8      3\n",
      "4      38Ml6v4vPzY      4\n",
      "...            ...    ...\n",
      "10712  M0O8lByHQ-k      0\n",
      "10713  XhZTEPRW5lk      2\n",
      "10714  egfzXatr0jc      4\n",
      "10715  mQ0-F4Y24xo     11\n",
      "10716  CybHailRBYU      3\n",
      "\n",
      "[10717 rows x 2 columns]\n"
     ]
    }
   ],
   "source": [
    "# Change strings labels to integers labels\n",
    "import pandas as pd\n",
    "\n",
    "df_train = pd.read_csv('/home/andrewkc/Codes/ml-project-3/csv/train_subset.csv')\n",
    "df_train['label'], unique_labels = pd.factorize(df_train['label'])\n",
    "label_dict = {label: idx for idx, label in enumerate(unique_labels)}\n",
    "print(label_dict)\n",
    "print(df_train)\n",
    "\n",
    "df_train.to_csv('/home/andrewkc/Codes/ml-project-3/csv/m_train_subset.csv', index=False)"
   ]
  },
  {
   "cell_type": "code",
   "execution_count": 61,
   "metadata": {},
   "outputs": [
    {
     "name": "stdout",
     "output_type": "stream",
     "text": [
      "      youtube_id  label\n",
      "0    QwxUvhD4ImM      7\n",
      "1    9QMlwdR8Olg      2\n",
      "2    WNu0Rwwlruc      4\n",
      "3    X4GRjs1zoEs     11\n",
      "4    S7mydaX-7Uw     12\n",
      "..           ...    ...\n",
      "851  fPxwROwb7r0      9\n",
      "852  YUJXCPF39kU     12\n",
      "853  9XGSi2nIY9E     18\n",
      "854  jTMZX30XTXA      3\n",
      "855  HhRzYKEy2zw     19\n",
      "\n",
      "[856 rows x 2 columns]\n"
     ]
    }
   ],
   "source": [
    "df_val = pd.read_csv('/home/andrewkc/Codes/ml-project-3/csv/val_subset.csv')\n",
    "df_val['label'] = df_val['label'].map(label_dict)\n",
    "print(df_val)\n",
    "\n",
    "df_val.to_csv('/home/andrewkc/Codes/ml-project-3/csv/m_val_subset.csv', index=False)"
   ]
  },
  {
   "cell_type": "markdown",
   "metadata": {},
   "source": [
    "**Comandos para extraer características de los videos**"
   ]
  },
  {
   "cell_type": "code",
   "execution_count": null,
   "metadata": {
    "vscode": {
     "languageId": "shellscript"
    }
   },
   "outputs": [],
   "source": [
    "python3 /home/andrewkc/Projects/ml-project-3/video_features/main.py \\\n",
    "    feature_type=r21d \\\n",
    "    device=\"cuda:0\" \\\n",
    "    file_with_video_paths=\"/home/andrewkc/Codes/ml-project-3/paths_train_subset.txt\" \\\n",
    "    on_extraction=save_numpy \\\n",
    "    output_path=\"/home/andrewkc/Projects/ml-p3/features_train/\" \\\n",
    "    show_pred=false"
   ]
  },
  {
   "cell_type": "code",
   "execution_count": null,
   "metadata": {
    "vscode": {
     "languageId": "shellscript"
    }
   },
   "outputs": [],
   "source": [
    "python3 /home/andrewkc/Projects/ml-project-3/video_features/main.py \\\n",
    "    feature_type=r21d \\\n",
    "    device=\"cuda:0\" \\\n",
    "    file_with_video_paths=\"/home/andrewkc/Codes/ml-project-3/paths_val_subset.txt\" \\\n",
    "    on_extraction=save_numpy \\\n",
    "    output_path=\"/home/andrewkc/Projects/ml-p3/features_val/\" \\\n",
    "    show_pred=false"
   ]
  },
  {
   "cell_type": "code",
   "execution_count": null,
   "metadata": {
    "vscode": {
     "languageId": "shellscript"
    }
   },
   "outputs": [],
   "source": [
    "python3 /home/andrewkc/Projects/ml-project-3/video_features/main.py \\\n",
    "    feature_type=r21d \\\n",
    "    device=\"cuda:0\" \\\n",
    "    file_with_video_paths=\"/home/andrewkc/Codes/ml-project-3/paths_test_subset.txt\" \\\n",
    "    on_extraction=save_numpy \\\n",
    "    output_path=\"/home/andrewkc/Projects/ml-p3/features_test/\" \\\n",
    "    show_pred=false\n"
   ]
  }
 ],
 "metadata": {
  "kernelspec": {
   "display_name": "Python 3",
   "language": "python",
   "name": "python3"
  },
  "language_info": {
   "codemirror_mode": {
    "name": "ipython",
    "version": 3
   },
   "file_extension": ".py",
   "mimetype": "text/x-python",
   "name": "python",
   "nbconvert_exporter": "python",
   "pygments_lexer": "ipython3",
   "version": "3.10.12"
  }
 },
 "nbformat": 4,
 "nbformat_minor": 2
}
