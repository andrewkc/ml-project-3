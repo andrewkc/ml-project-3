{
 "cells": [
  {
   "cell_type": "code",
   "execution_count": 1,
   "metadata": {},
   "outputs": [],
   "source": [
    "import os\n",
    "\n",
    "def extract_mp4_filenames(source_folder, output_file):\n",
    "  # Open the output file in write mode\n",
    "  with open(output_file, 'w') as file:\n",
    "    # Iterate through all files in the source folder\n",
    "    for filename in os.listdir(source_folder):\n",
    "      # Check if the file extension is .mp4\n",
    "      if filename.lower().endswith('.mp4'):\n",
    "        # Get the absolute path of the file\n",
    "        abs_path = os.path.abspath(os.path.join(source_folder, filename))\n",
    "        # Write the absolute path to the output file\n",
    "        file.write(abs_path + '\\n')\n",
    "\n",
    "# Define the source folder and the output file\n",
    "source_folder = 'train_data'\n",
    "output_file = 'paths_train_data.txt'\n",
    "\n",
    "# Call the function to extract the filenames\n",
    "extract_mp4_filenames(source_folder, output_file)\n"
   ]
  }
 ],
 "metadata": {
  "kernelspec": {
   "display_name": "Python 3",
   "language": "python",
   "name": "python3"
  },
  "language_info": {
   "codemirror_mode": {
    "name": "ipython",
    "version": 3
   },
   "file_extension": ".py",
   "mimetype": "text/x-python",
   "name": "python",
   "nbconvert_exporter": "python",
   "pygments_lexer": "ipython3",
   "version": "3.10.12"
  }
 },
 "nbformat": 4,
 "nbformat_minor": 2
}
